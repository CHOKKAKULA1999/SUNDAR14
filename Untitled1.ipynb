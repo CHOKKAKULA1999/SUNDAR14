{
 "cells": [
  {
   "cell_type": "markdown",
   "id": "46bcea12",
   "metadata": {},
   "source": [
    "# Kondapalem"
   ]
  },
  {
   "cell_type": "code",
   "execution_count": 2,
   "id": "cb229dc4",
   "metadata": {},
   "outputs": [
    {
     "name": "stdout",
     "output_type": "stream",
     "text": [
      "enter a:4\n",
      "enter b:2\n",
      "(8, 6, 2, 2)\n"
     ]
    }
   ],
   "source": [
    "def masd():\n",
    "    a=int(input('enter a:'))\n",
    "    b=int(input('enter b:'))\n",
    "    c=a*b,a+b,a-b,a//b\n",
    "    print(c)\n",
    "masd()\n"
   ]
  },
  {
   "cell_type": "code",
   "execution_count": null,
   "id": "f9fc58b8",
   "metadata": {},
   "outputs": [],
   "source": []
  }
 ],
 "metadata": {
  "kernelspec": {
   "display_name": "Python 3 (ipykernel)",
   "language": "python",
   "name": "python3"
  },
  "language_info": {
   "codemirror_mode": {
    "name": "ipython",
    "version": 3
   },
   "file_extension": ".py",
   "mimetype": "text/x-python",
   "name": "python",
   "nbconvert_exporter": "python",
   "pygments_lexer": "ipython3",
   "version": "3.9.7"
  }
 },
 "nbformat": 4,
 "nbformat_minor": 5
}
